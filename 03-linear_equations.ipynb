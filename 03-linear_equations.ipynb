{
 "cells": [
  {
   "cell_type": "markdown",
   "metadata": {},
   "source": [
    "# Sessie 3 - Stelsels van lineaire vergelijkingen"
   ]
  },
  {
   "cell_type": "markdown",
   "metadata": {},
   "source": [
    "Voer de onderstaande code uit."
   ]
  },
  {
   "cell_type": "code",
   "execution_count": 1,
   "metadata": {
    "collapsed": false
   },
   "outputs": [
    {
     "name": "stderr",
     "output_type": "stream",
     "text": [
      "/opt/anaconda3/lib/python3.5/site-packages/matplotlib/font_manager.py:273: UserWarning: Matplotlib is building the font cache using fc-list. This may take a moment.\n",
      "  warnings.warn('Matplotlib is building the font cache using fc-list. This may take a moment.')\n",
      "/opt/anaconda3/lib/python3.5/site-packages/matplotlib/font_manager.py:273: UserWarning: Matplotlib is building the font cache using fc-list. This may take a moment.\n",
      "  warnings.warn('Matplotlib is building the font cache using fc-list. This may take a moment.')\n"
     ]
    }
   ],
   "source": [
    "%matplotlib inline\n",
    "\n",
    "import matplotlib.pyplot as plt\n",
    "import numpy as np"
   ]
  },
  {
   "cell_type": "markdown",
   "metadata": {},
   "source": [
    "## Protein folding en PSICOV\n",
    "\n",
    "De Protein Data Bank ([PDB](http://www.rcsb.org/pdb/home/home.do)) is een database die allerlei informatie bevat over proteinen. Deze database bevat o.a. de 3D structuur van proteinen. Om deze structuur te bepalen (zie [protein folding](https://en.wikipedia.org/wiki/Protein_folding)), hebben we geautomatiseerde methodes nodig.\n",
    "\n",
    "We kunnen bijvoorbeeld kijken naar hoe proteinen evolueren. Het is geweten dat de 3D proteinstructuur bij mutatie meestal wordt behouden, en dus de amino-zuren (i.e., de deeltjes die een protein opmaken) gebonden moeten blijven. Dit wil zeggen dat de aminozuren die in contact zijn met elkaar moeten co-muteren om de chemische bindingen te behouden. Met andere woorden, als we naar <i>verschillende</i> sequenties van <i>hetzelfde</i> protein kijken, kunnen we relaties vinden tussen aminozuren in termen van co-mutaties.\n",
    "\n",
    "Een statistische methode dat gebruik maakt van dit idee, heet [PSICOV](http://www.ncbi.nlm.nih.gov/pubmed/22101153) en werkt als volgt:\n",
    "1. Stel een covariantie matrix van amino-paren op uit protein data.\n",
    "2. Inverteer deze matrix om correlaties te bekomen tussen amino-paren\n",
    "3. Bereken voor ieder paar wat de waarschijnlijkheid is dat deze zuren in contact zijn.\n",
    "\n",
    "De code voor stap 1 en 3 is gegeven, maar het cruciale gedeelte van deze methode is stap 2, namelijk het inverteren van de covariantie matrix, daar we tot nu toe niet echt stabiele of efficiente methodes hebben gezien. Stabiliteit is nodig, aangezien we zullen werken met een $420 \\times 420$ matrix voor een kleine sequentie van aminozuren (in de praktijk is dit gemiddeld een $3150 \\times 3150$ matrix)."
   ]
  },
  {
   "cell_type": "markdown",
   "metadata": {},
   "source": [
    "## 1. Cholesky Decomposition\n",
    "\n",
    "Toon aan dat de $LU$ ontbinding voor een symmetrische positief semi-definiete matrix $A$ (i.e., $\\forall z \\neq 0: z'Az \\ge 0$) zich herleidt tot een $LL'$ ontbinding en geef de formules om de elementen van $L$ te berekenen. Deze ontbinding heet de Cholesky decompositie. Implementeer deze methode."
   ]
  },
  {
   "cell_type": "code",
   "execution_count": null,
   "metadata": {
    "collapsed": true
   },
   "outputs": [],
   "source": [
    "def calclii(A, i):\n",
    "    for i in range \n",
    "\n",
    "def cholesky(A):\n",
    "    \"\"\"\n",
    "    Bereken de Cholesky decompositie A = LL' en geef de matrix L terug.\n",
    "    \"\"\"\n",
    "    n = len(A)\n",
    "    L = np.zeros((n, n))\n",
    "    ### FILL IN THE ENTRIES OF L ###"
   ]
  },
  {
   "cell_type": "code",
   "execution_count": null,
   "metadata": {
    "collapsed": false
   },
   "outputs": [],
   "source": [
    "### TEST ###\n",
    "L = np.asmatrix([[1, 0, 0],[2, 3, 0],[4, 5, 6]])\n",
    "A = L*L.transpose()\n",
    "L_new = cholesky(A)\n",
    "print(\"Error: \", str(np.linalg.norm(L_new - L)))"
   ]
  },
  {
   "cell_type": "markdown",
   "metadata": {},
   "source": [
    "## 2. Stabiliteit\n",
    "\n",
    "Een LU-decompositie is numeriek niet sterk stabiel.\n",
    "Neem $F(L, U) = A + \\Delta A$.<br>\n",
    "Dan wordt de onvermijdelijke fout gegeven door:\n",
    "$$\\delta F \\le \\frac{||L|| \\cdot ||U||}{||A||} \\cdot C \\cdot \\epsilon$$\n",
    "met $\\epsilon$ de machineprecisie en $C$ een constante.<br>\n",
    "Aangezien $||L||$ en $||U||$ arbitrair groot kunnen worden, is dit algoritme niet sterk stabiel.\n",
    "\n",
    "Leg uit waarom een Cholesky decompositie <i>wel</i> sterk stabiel is.\n",
    "\n",
    "(Opmerking: $||M|| = \\sqrt{\\sum\\limits_{i,j} M_{ij}^2}$ voor een matrix $M$.)"
   ]
  },
  {
   "cell_type": "markdown",
   "metadata": {},
   "source": [
    "## 3. Inverse covariantie matrix\n",
    "\n",
    "Aangezien iedere covariantie matrix een positief semi-definiete matrix is, kunnen we de Cholesky decompositie van een covariantie matrix op een stabiele manier berekenen.\n",
    "\n",
    "We kunnen dit toepassen op de covariantie matrix van het protein <i>1ag6A</i> om zo de PSICOV methode te vervolledigen.\n",
    "\n",
    "De volgende files worden in de test-code gebruikt en mogen niet aangepast worden:\n",
    "* $\\texttt{1ag6A-20.csv}$ - Covariantie matrix\n",
    "* $\\texttt{1ag6A.CB}$ - Werkelijke contacten\n",
    "* $\\texttt{psicov.py}$ - Code om de covariantie matrix in te lezen en contacten te voorspellen (stap 1 en 3 van PSICOV)\n",
    "\n",
    "Kan je gebruikmakend van jouw geimplementeerde Cholesky decompositie de inverse berekenen en de PSICOV methode vervolledigen?"
   ]
  },
  {
   "cell_type": "code",
   "execution_count": null,
   "metadata": {
    "collapsed": false
   },
   "outputs": [],
   "source": [
    "import scipy.linalg\n",
    "\n",
    "#Functies om Ax = b op te lossen, gebruikmakend van voorwaartse en\n",
    "#achterwaartste substitutie met parameters A en b.\n",
    "forward = lambda A, b: scipy.linalg.solve_triangular(A, b, lower=True)\n",
    "backward = lambda A, b: scipy.linalg.solve_triangular(A, b, lower=False)\n",
    "    \n",
    "def inv_cov(M):\n",
    "    \"\"\"\n",
    "    Inverteer een covariantie matrix M.\n",
    "    \"\"\"\n",
    "    pass ### CODE HERE ###"
   ]
  },
  {
   "cell_type": "code",
   "execution_count": null,
   "metadata": {
    "collapsed": false
   },
   "outputs": [],
   "source": [
    "%run psicov.py\n",
    "\n",
    "### TEST ###\n",
    "\n",
    "#Retrieve the covariance matrix of 1ag6A and compute the inverse\n",
    "M = retrieve_covariance_matrix('1ag6A-20.csv')\n",
    "M_inv = inv_cov(M)\n",
    "\n",
    "#Predict the amino-amino contacts and compare it with the actual contacts\n",
    "pred_contacts = retrieve_predicted_contacts(M_inv)\n",
    "true_contacts = retrieve_true_contacts('1ag6A.CB', 8)\n",
    "n = range(1, 150)\n",
    "accuracies = [fraction_of_correct_predictions(pred_contacts[:i], true_contacts) for i in n] #Compute the\n",
    "\n",
    "### PLOT ###\n",
    "plt.plot(n, accuracies)\n",
    "plt.xlabel('Top n predicted contacts')\n",
    "plt.ylabel('Accuracy')\n",
    "plt.xlim(1,150)\n",
    "plt.ylim(0,1)\n",
    "plt.show()"
   ]
  }
 ],
 "metadata": {
  "kernelspec": {
   "display_name": "Python 3",
   "language": "python",
   "name": "python3"
  },
  "language_info": {
   "codemirror_mode": {
    "name": "ipython",
    "version": 3
   },
   "file_extension": ".py",
   "mimetype": "text/x-python",
   "name": "python",
   "nbconvert_exporter": "python",
   "pygments_lexer": "ipython3",
   "version": "3.4.2"
  }
 },
 "nbformat": 4,
 "nbformat_minor": 0
}
