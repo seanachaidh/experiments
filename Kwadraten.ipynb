{
 "cells": [
  {
   "cell_type": "markdown",
   "metadata": {},
   "source": [
    "## Test voor het doen van een kleinste kwadraten methode\n",
    "\n",
    "Wat we willen doen in dit voorbeeld is het maken van een functie, zodanig dat deze functie dwars door de gegeven punten gaat. Echter we willen dit doen door het maken van een rechte. Daarom zal het nooit door ieder punt kunnen gaan. Wat we wel kunnen doenis ervoor zorgen dat deze rechte zo weinig mogelijk afwijkt van de originele data\n",
    "\n",
    "Gegeven een rechte met als voorschrift: $f(x) = a + bx$ en $y_i$ als een element uit onze orinele data, willen we dat som van alle kwadratische fouten $\\sum{(f(x_i) - y_i)^2}$ zo klein mogelijk is. Laten we zo 1 kwadraat $d_i$ noemen krijgen we dat.\n",
    "$$\\sum{d_i} = \\sum{(y_i - (a + bx))^2}$$\n",
    "zo klein mogelijk. Deze minimalisatie hangt af van het zowel het getal a als het getal b. Dus moeten we partieel afleiden.\n",
    "$$\\frac{\\partial f}{\\partial a} (y_i - (a + bx)^2 = \\sum{y_i} - \\sum{a} - \\sum{bx_i}\\\\\n",
    "\\Leftrightarrow \\sum{y} = na+b\\sum{x} $$\n",
    "\n",
    "Voor b wordt dat\n",
    "$$ \\frac{\\partial f}{\\partial b} = \\sum{2(y_i - 2(a + bx)x}\\\\\n",
    "\\Leftrightarrow \\sum{(2y_i -2a -2bx_i)x_i}\\\\\n",
    "\\Leftrightarrow \\sum{2x_iy_i -2x_ia -2bx_i^2}\\\\\n",
    "\\Leftrightarrow \\sum{x_iy_i -x_ia -bx_i^2}\\\\\n",
    "\\Leftrightarrow \\sum{xy} - \\sum{xa} - \\sum{bx^2}\n",
    "\\Leftrightarrow \\sum{xy} = a\\sum{x} + b\\sum{x^2}\n",
    "$$\n"
   ]
  },
  {
   "cell_type": "code",
   "execution_count": 18,
   "metadata": {
    "collapsed": false
   },
   "outputs": [
    {
     "name": "stdout",
     "output_type": "stream",
     "text": [
      "[1.02, 1.49, 1.96, 2.4300000000000002]\n"
     ]
    },
    {
     "data": {
      "image/png": "[encoded data removed]",
      "text/plain": [
       "<matplotlib.figure.Figure at 0x7f2f7842be80>"
      ]
     },
     "metadata": {},
     "output_type": "display_data"
    }
   ],
   "source": [
    "%matplotlib inline\n",
    "import matplotlib.pyplot as plt\n",
    "import numpy as np\n",
    "\n",
    "def mean(arr):\n",
    "    s = sum(arr)\n",
    "    return s/len(arr)\n",
    "\n",
    "def calcul_a(xis, yis, b):\n",
    "    return mean(yis) - b*mean(xis)\n",
    "\n",
    "def calcul_b(xis, yis):\n",
    "    n = len(xis)\n",
    "    xy = sum(i*j for i, j in zip(xis, yis))\n",
    "    y  = sum(yis)\n",
    "    xsq = sum(i**2 for i in xis)\n",
    "    x = sum(xis)\n",
    "    \n",
    "    return (n*xy-y*x)/(n*xsq - x*x)\n",
    "\n",
    "def fit_data(xis, yis):\n",
    "    #We fitten door een rechte te nemen\n",
    "    b = calcul_b(xis, yis)\n",
    "    a = calcul_a(xis, yis, b)\n",
    "    \n",
    "    return lambda x: a + b*x\n",
    "\n",
    "def main():\n",
    "    \n",
    "    data = np.array([1, 1.5 , 2, 2.4])\n",
    "    space = np.linspace(-1, 1, 4)\n",
    "    \n",
    "    f = fit_data(space, data)\n",
    "    \n",
    "    fig, ax = plt.subplots()\n",
    "    ax.scatter(space, data)\n",
    "    fitdata = [f(i) for i in space]\n",
    "    print(fitdata)\n",
    "    \n",
    "    ax.plot(space, fitdata)\n",
    "    \n",
    "    plt.show()\n",
    "    return 0\n",
    "\n",
    "if __name__ == \"__main__\":\n",
    "    main()\n"
   ]
  }
 ],
 "metadata": {
  "celltoolbar": "Edit Metadata",
  "kernelspec": {
   "display_name": "Python 3",
   "language": "python",
   "name": "python3"
  },
  "language_info": {
   "codemirror_mode": {
    "name": "ipython",
    "version": 3
   },
   "file_extension": ".py",
   "mimetype": "text/x-python",
   "name": "python",
   "nbconvert_exporter": "python",
   "pygments_lexer": "ipython3",
   "version": "3.4.2"
  }
 },
 "nbformat": 4,
 "nbformat_minor": 0
}
