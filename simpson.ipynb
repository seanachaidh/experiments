{
 "cells": [
  {
   "cell_type": "markdown",
   "metadata": {},
   "source": [
    "# Integratie volgens Simpson\n",
    "\n",
    "In dit notebook ga ik proberen om simpsonintegratie te verwezelijken\n",
    "\n",
    "## Eerste stappen\n",
    "\n",
    "Bij simpson integratie gaan we een integraal $ \\int{f(x) dx} $ benaderen door middel van parabolen $ax^2+bx+c$\n",
    "$$\n",
    "\\int_{-h}^h (ax^2 + bx + c) \\mathrm{d}x = \\left.\\frac{ax^3}{3} + \\frac{bx^2}{2} + cx\\right|_{-h}^h\\\\\n",
    "(\\frac{ah^3}{3} + \\frac{bh^2}{2} + ch) - (\\frac{-ah^3}{3} + \\frac{bh^2}{2} -ch)\\\\\n",
    "\\Leftrightarrow \\frac{ah^3}{3} + \\frac{bh^2}{2} + ch + \\frac{ah^3}{3} - \\frac{bh^2}{2} +ch \\\\\n",
    "\\Leftrightarrow \\frac{2ah^3}{3} + 2ch \\Leftrightarrow \\frac{2ah^3}{3} + \\frac{6ch}{3} \\Leftrightarrow \\frac{h}{3}(2ah^2 + 6c)\n",
    "$$\n",
    "\n",
    "Met de te bekomen formule $ \\frac{h}{3}(2ah^2 + 6c)$ lijken we precies niet veel verder gekomen te zijn. Hierdoor bekoemn we één polynoom en dat is natuurlijk veel te onnauwkeurig. Handig zou zin als we deze polynoom zouden verplaaten aan de hand van een aantal samples die we van onze funtie nemen. We kunnen dit echter oplossen. We hebben namelijk al zeker drie koppels punten $ (-h, y_0), (0, y_1), (h, y_2) $. Hiermee kunnen we het volgende zeggen:\n",
    "\n",
    "$$\n",
    "y_0 = ah^2 -bh + c\\\\\n",
    "y_1 = a*0^2 + b*0+c \\Leftrightarrow y_1 = c\\\\\n",
    "y_2 = ah^2 + bh + c\\\\\n",
    "$$\n",
    "\n",
    "Met een beetje puzzelen\n",
    "\n",
    "$$\n",
    "y_0 - y_1 = ah^2 -bh + c - c = ah^2-bh\\\\\n",
    "y_2 - y_1 = ah^2 + bh + c - c = ah^2+bh\\\\\n",
    "(y_0 - y_1) + (y_2 - y_1) = (ah^2-bh) + (ah^2+bh) \\Leftrightarrow y_0 + y_2 - 2y_1 = 2ah^2\n",
    "$$\n",
    "\n",
    "Dit zijn exact de waarde die we terugvinden in onze primitieve, waardoor we deze kdus kunnen herschrijven als:\n",
    "$$\n",
    "\\frac{h}{3}((y_0+y_2-2y_1)+6y_1)\n",
    "= \\frac{h}{3}(y_0+4y_1+y_2)\n",
    "$$\n"
   ]
  },
  {
   "cell_type": "markdown",
   "metadata": {},
   "source": [
    "## Afgeleide\n",
    "Hier gaan we een afgeleide definiëren. Volgens de definitie van een afgeleide is deze een limiet en wel de volgende $$\\lim_{h \\to 0} \\frac{f(h + x) - f(x)}{h}$$\n",
    "Dit valt niet direct te programeren. Daarom gaan we een truukje toepassen. Een limiet is eigenlijk de waarde van een functie als h in dit geval enorm klein wordt. We maken dus een constante h die we zo klein mogelijk kiezen."
   ]
  },
  {
   "cell_type": "code",
   "execution_count": 9,
   "metadata": {
    "collapsed": false
   },
   "outputs": [
    {
     "name": "stdout",
     "output_type": "stream",
     "text": [
      "8.00000999952033\n"
     ]
    }
   ],
   "source": [
    "def derivative(fx):\n",
    "    h = 1e-5 #Zo klein mogelijk. Ik zou het eigenlijk nog kleiner kunnen maken.\n",
    "    \n",
    "    return lambda x: (fx(h + x) - fx(x))/h\n",
    "\n",
    "def testfun(x):\n",
    "    return pow(x, 2)\n",
    "dtestfun = derivative(testfun)\n",
    "print(dtestfun(4)) #zou 4 moeten geven"
   ]
  }
 ],
 "metadata": {
  "kernelspec": {
   "display_name": "Python 3",
   "language": "python",
   "name": "python3"
  },
  "language_info": {
   "codemirror_mode": {
    "name": "ipython",
    "version": 3
   },
   "file_extension": ".py",
   "mimetype": "text/x-python",
   "name": "python",
   "nbconvert_exporter": "python",
   "pygments_lexer": "ipython3",
   "version": "3.4.2"
  }
 },
 "nbformat": 4,
 "nbformat_minor": 0
}
